{
 "cells": [
  {
   "cell_type": "markdown",
   "id": "26ff322f-4adf-4368-8334-bd82dd868e9f",
   "metadata": {},
   "source": [
    "# Run this next cell exactly once after uploading all of the files"
   ]
  },
  {
   "cell_type": "code",
   "execution_count": null,
   "id": "641172fb-e5a6-428c-8311-e9307af6878f",
   "metadata": {},
   "outputs": [],
   "source": [
    "#Only run this cell once\n",
    "from IPython.display import display, HTML, Javascript\n",
    "with open('d3.v4.min.js', 'r') as f:\n",
    "    display(HTML(f'<script>{f.read()}</script>'))\n",
    "display(HTML('<div id=\"my_dataviz\"></div>'))\n",
    "with open('consumer.js', 'r') as f:\n",
    "    display(HTML(f'<script>{f.read()}</script>'))"
   ]
  },
  {
   "cell_type": "code",
   "execution_count": null,
   "id": "33484e5b-4b9f-44ff-8266-d5a62dd5049a",
   "metadata": {},
   "outputs": [],
   "source": [
    "# Run this cell\n",
    "from IPython.display import display, update_display, HTML, Javascript, clear_output\n",
    "import pika\n",
    "import pickle\n",
    "\n",
    "#Modify the 'streaming-data_rabbitmq_1' string to match the name of your rabbitmq instance\n",
    "connection = pika.BlockingConnection(pika.ConnectionParameters('streaming-data_rabbitmq_1'))\n",
    "channel = connection.channel()\n",
    "channel.queue_declare(queue='gasket')\n",
    "def callback(ch, method, properties, body):\n",
    "    data = pickle.loads(body)\n",
    "    cmd = f'add_data({data[0]}, {data[1]})'\n",
    "    display(Javascript(cmd))\n",
    "    clear_output()\n",
    "    \n",
    "channel.basic_consume(queue='gasket', auto_ack=True, on_message_callback=callback)\n",
    "channel.start_consuming()"
   ]
  },
  {
   "cell_type": "code",
   "execution_count": 20,
   "id": "66942a72-335e-4461-b6d1-6789881a8d87",
   "metadata": {},
   "outputs": [],
   "source": [
    "connection.close()"
   ]
  }
 ],
 "metadata": {
  "kernelspec": {
   "display_name": "Python 3 (ipykernel)",
   "language": "python",
   "name": "python3"
  },
  "language_info": {
   "codemirror_mode": {
    "name": "ipython",
    "version": 3
   },
   "file_extension": ".py",
   "mimetype": "text/x-python",
   "name": "python",
   "nbconvert_exporter": "python",
   "pygments_lexer": "ipython3",
   "version": "3.10.1"
  }
 },
 "nbformat": 4,
 "nbformat_minor": 5
}
